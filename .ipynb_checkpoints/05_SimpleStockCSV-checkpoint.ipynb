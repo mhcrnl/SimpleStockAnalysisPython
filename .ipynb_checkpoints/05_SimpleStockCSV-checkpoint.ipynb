{
 "cells": [
  {
   "cell_type": "markdown",
   "metadata": {},
   "source": [
    "# Save Stock Data to csv file"
   ]
  },
  {
   "cell_type": "markdown",
   "metadata": {},
   "source": [
    "## Update: 26/04/2020"
   ]
  },
  {
   "cell_type": "markdown",
   "metadata": {},
   "source": [
    "## Simple save one ticker to csv"
   ]
  },
  {
   "cell_type": "code",
   "execution_count": 1,
   "metadata": {
    "inputHidden": false,
    "outputHidden": false
   },
   "outputs": [],
   "source": [
    "import numpy as np\n",
    "import matplotlib.pyplot as plt\n",
    "import pandas as pd\n",
    "\n",
    "import warnings\n",
    "warnings.filterwarnings(\"ignore\")\n",
    "\n",
    "# fix_yahoo_finance is used to fetch data \n",
    "import yfinance as yf\n",
    "yf.pdr_override()"
   ]
  },
  {
   "cell_type": "code",
   "execution_count": 2,
   "metadata": {
    "inputHidden": false,
    "outputHidden": false
   },
   "outputs": [
    {
     "name": "stdout",
     "output_type": "stream",
     "text": [
      "[*********************100%***********************]  1 of 1 completed\n"
     ]
    },
    {
     "data": {
      "text/html": [
       "<div>\n",
       "<style scoped>\n",
       "    .dataframe tbody tr th:only-of-type {\n",
       "        vertical-align: middle;\n",
       "    }\n",
       "\n",
       "    .dataframe tbody tr th {\n",
       "        vertical-align: top;\n",
       "    }\n",
       "\n",
       "    .dataframe thead th {\n",
       "        text-align: right;\n",
       "    }\n",
       "</style>\n",
       "<table border=\"1\" class=\"dataframe\">\n",
       "  <thead>\n",
       "    <tr style=\"text-align: right;\">\n",
       "      <th></th>\n",
       "      <th>Open</th>\n",
       "      <th>High</th>\n",
       "      <th>Low</th>\n",
       "      <th>Close</th>\n",
       "      <th>Adj Close</th>\n",
       "      <th>Volume</th>\n",
       "    </tr>\n",
       "    <tr>\n",
       "      <th>Date</th>\n",
       "      <th></th>\n",
       "      <th></th>\n",
       "      <th></th>\n",
       "      <th></th>\n",
       "      <th></th>\n",
       "      <th></th>\n",
       "    </tr>\n",
       "  </thead>\n",
       "  <tbody>\n",
       "    <tr>\n",
       "      <td>2013-12-31</td>\n",
       "      <td>3.87</td>\n",
       "      <td>3.88</td>\n",
       "      <td>3.83</td>\n",
       "      <td>3.87</td>\n",
       "      <td>3.87</td>\n",
       "      <td>12347800</td>\n",
       "    </tr>\n",
       "    <tr>\n",
       "      <td>2014-01-02</td>\n",
       "      <td>3.85</td>\n",
       "      <td>3.98</td>\n",
       "      <td>3.84</td>\n",
       "      <td>3.95</td>\n",
       "      <td>3.95</td>\n",
       "      <td>20548400</td>\n",
       "    </tr>\n",
       "    <tr>\n",
       "      <td>2014-01-03</td>\n",
       "      <td>3.98</td>\n",
       "      <td>4.00</td>\n",
       "      <td>3.88</td>\n",
       "      <td>4.00</td>\n",
       "      <td>4.00</td>\n",
       "      <td>22887200</td>\n",
       "    </tr>\n",
       "    <tr>\n",
       "      <td>2014-01-06</td>\n",
       "      <td>4.01</td>\n",
       "      <td>4.18</td>\n",
       "      <td>3.99</td>\n",
       "      <td>4.13</td>\n",
       "      <td>4.13</td>\n",
       "      <td>42398300</td>\n",
       "    </tr>\n",
       "    <tr>\n",
       "      <td>2014-01-07</td>\n",
       "      <td>4.19</td>\n",
       "      <td>4.25</td>\n",
       "      <td>4.11</td>\n",
       "      <td>4.18</td>\n",
       "      <td>4.18</td>\n",
       "      <td>42932100</td>\n",
       "    </tr>\n",
       "  </tbody>\n",
       "</table>\n",
       "</div>"
      ],
      "text/plain": [
       "            Open  High   Low  Close  Adj Close    Volume\n",
       "Date                                                    \n",
       "2013-12-31  3.87  3.88  3.83   3.87       3.87  12347800\n",
       "2014-01-02  3.85  3.98  3.84   3.95       3.95  20548400\n",
       "2014-01-03  3.98  4.00  3.88   4.00       4.00  22887200\n",
       "2014-01-06  4.01  4.18  3.99   4.13       4.13  42398300\n",
       "2014-01-07  4.19  4.25  4.11   4.18       4.18  42932100"
      ]
     },
     "execution_count": 2,
     "metadata": {},
     "output_type": "execute_result"
    }
   ],
   "source": [
    "# input\n",
    "symbol = 'AMD'\n",
    "start = '2014-01-01'\n",
    "end = '2019-01-01'\n",
    "\n",
    "# Read data \n",
    "dataset = yf.download(symbol,start,end)\n",
    "\n",
    "# View Columns\n",
    "dataset.head()"
   ]
  },
  {
   "cell_type": "code",
   "execution_count": 3,
   "metadata": {
    "inputHidden": false,
    "outputHidden": false
   },
   "outputs": [
    {
     "ename": "FileNotFoundError",
     "evalue": "[Errno 2] No such file or directory: 'C:/Users/Finance/Desktop/AMD.csv'",
     "output_type": "error",
     "traceback": [
      "\u001b[1;31m---------------------------------------------------------------------------\u001b[0m",
      "\u001b[1;31mFileNotFoundError\u001b[0m                         Traceback (most recent call last)",
      "\u001b[1;32m<ipython-input-3-4f9ea1c9e2ad>\u001b[0m in \u001b[0;36m<module>\u001b[1;34m\u001b[0m\n\u001b[0;32m      1\u001b[0m \u001b[1;31m# Output data into CSV\u001b[0m\u001b[1;33m\u001b[0m\u001b[1;33m\u001b[0m\u001b[1;33m\u001b[0m\u001b[0m\n\u001b[0;32m      2\u001b[0m \u001b[1;31m# To save in your certain folder, change the Users name\u001b[0m\u001b[1;33m\u001b[0m\u001b[1;33m\u001b[0m\u001b[1;33m\u001b[0m\u001b[0m\n\u001b[1;32m----> 3\u001b[1;33m \u001b[0mdataset\u001b[0m\u001b[1;33m.\u001b[0m\u001b[0mto_csv\u001b[0m\u001b[1;33m(\u001b[0m\u001b[1;34m\"C:/Users/Finance/Desktop/AMD.csv\"\u001b[0m\u001b[1;33m)\u001b[0m\u001b[1;33m\u001b[0m\u001b[1;33m\u001b[0m\u001b[0m\n\u001b[0m",
      "\u001b[1;32mC:\\ProgramData\\Anaconda3\\lib\\site-packages\\pandas\\core\\generic.py\u001b[0m in \u001b[0;36mto_csv\u001b[1;34m(self, path_or_buf, sep, na_rep, float_format, columns, header, index, index_label, mode, encoding, compression, quoting, quotechar, line_terminator, chunksize, date_format, doublequote, escapechar, decimal)\u001b[0m\n\u001b[0;32m   3226\u001b[0m             \u001b[0mdecimal\u001b[0m\u001b[1;33m=\u001b[0m\u001b[0mdecimal\u001b[0m\u001b[1;33m,\u001b[0m\u001b[1;33m\u001b[0m\u001b[1;33m\u001b[0m\u001b[0m\n\u001b[0;32m   3227\u001b[0m         )\n\u001b[1;32m-> 3228\u001b[1;33m         \u001b[0mformatter\u001b[0m\u001b[1;33m.\u001b[0m\u001b[0msave\u001b[0m\u001b[1;33m(\u001b[0m\u001b[1;33m)\u001b[0m\u001b[1;33m\u001b[0m\u001b[1;33m\u001b[0m\u001b[0m\n\u001b[0m\u001b[0;32m   3229\u001b[0m \u001b[1;33m\u001b[0m\u001b[0m\n\u001b[0;32m   3230\u001b[0m         \u001b[1;32mif\u001b[0m \u001b[0mpath_or_buf\u001b[0m \u001b[1;32mis\u001b[0m \u001b[1;32mNone\u001b[0m\u001b[1;33m:\u001b[0m\u001b[1;33m\u001b[0m\u001b[1;33m\u001b[0m\u001b[0m\n",
      "\u001b[1;32mC:\\ProgramData\\Anaconda3\\lib\\site-packages\\pandas\\io\\formats\\csvs.py\u001b[0m in \u001b[0;36msave\u001b[1;34m(self)\u001b[0m\n\u001b[0;32m    181\u001b[0m                 \u001b[0mself\u001b[0m\u001b[1;33m.\u001b[0m\u001b[0mmode\u001b[0m\u001b[1;33m,\u001b[0m\u001b[1;33m\u001b[0m\u001b[1;33m\u001b[0m\u001b[0m\n\u001b[0;32m    182\u001b[0m                 \u001b[0mencoding\u001b[0m\u001b[1;33m=\u001b[0m\u001b[0mself\u001b[0m\u001b[1;33m.\u001b[0m\u001b[0mencoding\u001b[0m\u001b[1;33m,\u001b[0m\u001b[1;33m\u001b[0m\u001b[1;33m\u001b[0m\u001b[0m\n\u001b[1;32m--> 183\u001b[1;33m                 \u001b[0mcompression\u001b[0m\u001b[1;33m=\u001b[0m\u001b[0mself\u001b[0m\u001b[1;33m.\u001b[0m\u001b[0mcompression\u001b[0m\u001b[1;33m,\u001b[0m\u001b[1;33m\u001b[0m\u001b[1;33m\u001b[0m\u001b[0m\n\u001b[0m\u001b[0;32m    184\u001b[0m             )\n\u001b[0;32m    185\u001b[0m             \u001b[0mclose\u001b[0m \u001b[1;33m=\u001b[0m \u001b[1;32mTrue\u001b[0m\u001b[1;33m\u001b[0m\u001b[1;33m\u001b[0m\u001b[0m\n",
      "\u001b[1;32mC:\\ProgramData\\Anaconda3\\lib\\site-packages\\pandas\\io\\common.py\u001b[0m in \u001b[0;36m_get_handle\u001b[1;34m(path_or_buf, mode, encoding, compression, memory_map, is_text)\u001b[0m\n\u001b[0;32m    397\u001b[0m         \u001b[1;32mif\u001b[0m \u001b[0mencoding\u001b[0m\u001b[1;33m:\u001b[0m\u001b[1;33m\u001b[0m\u001b[1;33m\u001b[0m\u001b[0m\n\u001b[0;32m    398\u001b[0m             \u001b[1;31m# Encoding\u001b[0m\u001b[1;33m\u001b[0m\u001b[1;33m\u001b[0m\u001b[1;33m\u001b[0m\u001b[0m\n\u001b[1;32m--> 399\u001b[1;33m             \u001b[0mf\u001b[0m \u001b[1;33m=\u001b[0m \u001b[0mopen\u001b[0m\u001b[1;33m(\u001b[0m\u001b[0mpath_or_buf\u001b[0m\u001b[1;33m,\u001b[0m \u001b[0mmode\u001b[0m\u001b[1;33m,\u001b[0m \u001b[0mencoding\u001b[0m\u001b[1;33m=\u001b[0m\u001b[0mencoding\u001b[0m\u001b[1;33m,\u001b[0m \u001b[0mnewline\u001b[0m\u001b[1;33m=\u001b[0m\u001b[1;34m\"\"\u001b[0m\u001b[1;33m)\u001b[0m\u001b[1;33m\u001b[0m\u001b[1;33m\u001b[0m\u001b[0m\n\u001b[0m\u001b[0;32m    400\u001b[0m         \u001b[1;32melif\u001b[0m \u001b[0mis_text\u001b[0m\u001b[1;33m:\u001b[0m\u001b[1;33m\u001b[0m\u001b[1;33m\u001b[0m\u001b[0m\n\u001b[0;32m    401\u001b[0m             \u001b[1;31m# No explicit encoding\u001b[0m\u001b[1;33m\u001b[0m\u001b[1;33m\u001b[0m\u001b[1;33m\u001b[0m\u001b[0m\n",
      "\u001b[1;31mFileNotFoundError\u001b[0m: [Errno 2] No such file or directory: 'C:/Users/Finance/Desktop/AMD.csv'"
     ]
    }
   ],
   "source": [
    "# Output data into CSV\n",
    "# To save in your certain folder, change the Users name\n",
    "dataset.to_csv(\"C:/Users/Finance/Desktop/AMD.csv\") "
   ]
  },
  {
   "cell_type": "markdown",
   "metadata": {},
   "source": [
    "## Save Multi Stocks of \"Adj Close\" to csv"
   ]
  },
  {
   "cell_type": "code",
   "execution_count": 4,
   "metadata": {},
   "outputs": [
    {
     "name": "stdout",
     "output_type": "stream",
     "text": [
      "[*********************100%***********************]  26 of 26 downloaded\n"
     ]
    }
   ],
   "source": [
    "symbols = ['MMM','AXP','AAPL','BA','CAT','CVX','CSCO','KO','DIS','XOM','GE','GS','HD','IBM','INTC','JNJ','MCD','MRK','NKE','PFE','PG','UTX','UNH','VZ','V','WMT']\n",
    "start = '2001-01-11' \n",
    "end = '2018-09-17'\n",
    "stocks_info = yf.download(symbols, start, end)['Adj Close']\n",
    "stocks_data = stocks_info.iloc[::]"
   ]
  },
  {
   "cell_type": "code",
   "execution_count": 5,
   "metadata": {
    "inputHidden": false,
    "outputHidden": false
   },
   "outputs": [
    {
     "data": {
      "text/html": [
       "<div>\n",
       "<style scoped>\n",
       "    .dataframe tbody tr th:only-of-type {\n",
       "        vertical-align: middle;\n",
       "    }\n",
       "\n",
       "    .dataframe tbody tr th {\n",
       "        vertical-align: top;\n",
       "    }\n",
       "\n",
       "    .dataframe thead th {\n",
       "        text-align: right;\n",
       "    }\n",
       "</style>\n",
       "<table border=\"1\" class=\"dataframe\">\n",
       "  <thead>\n",
       "    <tr style=\"text-align: right;\">\n",
       "      <th></th>\n",
       "      <th>AAPL</th>\n",
       "      <th>AXP</th>\n",
       "      <th>BA</th>\n",
       "      <th>CAT</th>\n",
       "      <th>CSCO</th>\n",
       "      <th>CVX</th>\n",
       "      <th>DIS</th>\n",
       "      <th>GE</th>\n",
       "      <th>GS</th>\n",
       "      <th>HD</th>\n",
       "      <th>...</th>\n",
       "      <th>MRK</th>\n",
       "      <th>NKE</th>\n",
       "      <th>PFE</th>\n",
       "      <th>PG</th>\n",
       "      <th>UNH</th>\n",
       "      <th>UTX</th>\n",
       "      <th>V</th>\n",
       "      <th>VZ</th>\n",
       "      <th>WMT</th>\n",
       "      <th>XOM</th>\n",
       "    </tr>\n",
       "    <tr>\n",
       "      <th>Date</th>\n",
       "      <th></th>\n",
       "      <th></th>\n",
       "      <th></th>\n",
       "      <th></th>\n",
       "      <th></th>\n",
       "      <th></th>\n",
       "      <th></th>\n",
       "      <th></th>\n",
       "      <th></th>\n",
       "      <th></th>\n",
       "      <th></th>\n",
       "      <th></th>\n",
       "      <th></th>\n",
       "      <th></th>\n",
       "      <th></th>\n",
       "      <th></th>\n",
       "      <th></th>\n",
       "      <th></th>\n",
       "      <th></th>\n",
       "      <th></th>\n",
       "      <th></th>\n",
       "    </tr>\n",
       "  </thead>\n",
       "  <tbody>\n",
       "    <tr>\n",
       "      <th>2001-01-11</th>\n",
       "      <td>0.860995</td>\n",
       "      <td>32.362038</td>\n",
       "      <td>39.449837</td>\n",
       "      <td>12.335097</td>\n",
       "      <td>31.130840</td>\n",
       "      <td>19.006382</td>\n",
       "      <td>23.236092</td>\n",
       "      <td>25.899675</td>\n",
       "      <td>90.825935</td>\n",
       "      <td>34.010456</td>\n",
       "      <td>...</td>\n",
       "      <td>40.302208</td>\n",
       "      <td>2.427128</td>\n",
       "      <td>21.983341</td>\n",
       "      <td>20.644518</td>\n",
       "      <td>11.937548</td>\n",
       "      <td>23.863380</td>\n",
       "      <td>NaN</td>\n",
       "      <td>20.906065</td>\n",
       "      <td>36.973961</td>\n",
       "      <td>24.954866</td>\n",
       "    </tr>\n",
       "    <tr>\n",
       "      <th>2001-01-12</th>\n",
       "      <td>0.822131</td>\n",
       "      <td>32.404297</td>\n",
       "      <td>40.450684</td>\n",
       "      <td>11.860015</td>\n",
       "      <td>30.285425</td>\n",
       "      <td>18.889679</td>\n",
       "      <td>24.860649</td>\n",
       "      <td>25.412958</td>\n",
       "      <td>89.387543</td>\n",
       "      <td>34.053780</td>\n",
       "      <td>...</td>\n",
       "      <td>40.209618</td>\n",
       "      <td>2.371967</td>\n",
       "      <td>22.217928</td>\n",
       "      <td>19.952829</td>\n",
       "      <td>11.681551</td>\n",
       "      <td>22.833738</td>\n",
       "      <td>NaN</td>\n",
       "      <td>20.812313</td>\n",
       "      <td>37.685860</td>\n",
       "      <td>25.279213</td>\n",
       "    </tr>\n",
       "    <tr>\n",
       "      <th>2001-01-16</th>\n",
       "      <td>0.819141</td>\n",
       "      <td>32.657772</td>\n",
       "      <td>40.700882</td>\n",
       "      <td>12.131493</td>\n",
       "      <td>30.633539</td>\n",
       "      <td>18.904276</td>\n",
       "      <td>26.042143</td>\n",
       "      <td>26.351603</td>\n",
       "      <td>90.415009</td>\n",
       "      <td>33.880470</td>\n",
       "      <td>...</td>\n",
       "      <td>41.135406</td>\n",
       "      <td>2.340446</td>\n",
       "      <td>22.351967</td>\n",
       "      <td>20.413963</td>\n",
       "      <td>11.573761</td>\n",
       "      <td>22.914494</td>\n",
       "      <td>NaN</td>\n",
       "      <td>20.390440</td>\n",
       "      <td>38.931671</td>\n",
       "      <td>24.973944</td>\n",
       "    </tr>\n",
       "    <tr>\n",
       "      <th>2001-01-17</th>\n",
       "      <td>0.804193</td>\n",
       "      <td>33.418255</td>\n",
       "      <td>39.199627</td>\n",
       "      <td>12.216325</td>\n",
       "      <td>31.031374</td>\n",
       "      <td>18.729233</td>\n",
       "      <td>26.288290</td>\n",
       "      <td>25.969193</td>\n",
       "      <td>90.415009</td>\n",
       "      <td>32.147453</td>\n",
       "      <td>...</td>\n",
       "      <td>40.117039</td>\n",
       "      <td>2.345699</td>\n",
       "      <td>21.849302</td>\n",
       "      <td>20.113068</td>\n",
       "      <td>11.358186</td>\n",
       "      <td>23.298088</td>\n",
       "      <td>NaN</td>\n",
       "      <td>20.226379</td>\n",
       "      <td>38.397762</td>\n",
       "      <td>24.496984</td>\n",
       "    </tr>\n",
       "    <tr>\n",
       "      <th>2001-01-18</th>\n",
       "      <td>0.893880</td>\n",
       "      <td>33.544987</td>\n",
       "      <td>38.282196</td>\n",
       "      <td>11.507934</td>\n",
       "      <td>33.318939</td>\n",
       "      <td>18.539610</td>\n",
       "      <td>26.091373</td>\n",
       "      <td>26.490675</td>\n",
       "      <td>88.456596</td>\n",
       "      <td>30.674391</td>\n",
       "      <td>...</td>\n",
       "      <td>40.919392</td>\n",
       "      <td>2.356206</td>\n",
       "      <td>22.050377</td>\n",
       "      <td>20.292179</td>\n",
       "      <td>11.263871</td>\n",
       "      <td>23.600931</td>\n",
       "      <td>NaN</td>\n",
       "      <td>20.906065</td>\n",
       "      <td>37.774853</td>\n",
       "      <td>24.153563</td>\n",
       "    </tr>\n",
       "  </tbody>\n",
       "</table>\n",
       "<p>5 rows × 26 columns</p>\n",
       "</div>"
      ],
      "text/plain": [
       "                AAPL        AXP         BA        CAT       CSCO        CVX  \\\n",
       "Date                                                                          \n",
       "2001-01-11  0.860995  32.362038  39.449837  12.335097  31.130840  19.006382   \n",
       "2001-01-12  0.822131  32.404297  40.450684  11.860015  30.285425  18.889679   \n",
       "2001-01-16  0.819141  32.657772  40.700882  12.131493  30.633539  18.904276   \n",
       "2001-01-17  0.804193  33.418255  39.199627  12.216325  31.031374  18.729233   \n",
       "2001-01-18  0.893880  33.544987  38.282196  11.507934  33.318939  18.539610   \n",
       "\n",
       "                  DIS         GE         GS         HD    ...            MRK  \\\n",
       "Date                                                      ...                  \n",
       "2001-01-11  23.236092  25.899675  90.825935  34.010456    ...      40.302208   \n",
       "2001-01-12  24.860649  25.412958  89.387543  34.053780    ...      40.209618   \n",
       "2001-01-16  26.042143  26.351603  90.415009  33.880470    ...      41.135406   \n",
       "2001-01-17  26.288290  25.969193  90.415009  32.147453    ...      40.117039   \n",
       "2001-01-18  26.091373  26.490675  88.456596  30.674391    ...      40.919392   \n",
       "\n",
       "                 NKE        PFE         PG        UNH        UTX   V  \\\n",
       "Date                                                                   \n",
       "2001-01-11  2.427128  21.983341  20.644518  11.937548  23.863380 NaN   \n",
       "2001-01-12  2.371967  22.217928  19.952829  11.681551  22.833738 NaN   \n",
       "2001-01-16  2.340446  22.351967  20.413963  11.573761  22.914494 NaN   \n",
       "2001-01-17  2.345699  21.849302  20.113068  11.358186  23.298088 NaN   \n",
       "2001-01-18  2.356206  22.050377  20.292179  11.263871  23.600931 NaN   \n",
       "\n",
       "                   VZ        WMT        XOM  \n",
       "Date                                         \n",
       "2001-01-11  20.906065  36.973961  24.954866  \n",
       "2001-01-12  20.812313  37.685860  25.279213  \n",
       "2001-01-16  20.390440  38.931671  24.973944  \n",
       "2001-01-17  20.226379  38.397762  24.496984  \n",
       "2001-01-18  20.906065  37.774853  24.153563  \n",
       "\n",
       "[5 rows x 26 columns]"
      ]
     },
     "execution_count": 5,
     "metadata": {},
     "output_type": "execute_result"
    }
   ],
   "source": [
    "stocks_data.head()"
   ]
  },
  {
   "cell_type": "code",
   "execution_count": 6,
   "metadata": {
    "inputHidden": false,
    "outputHidden": false
   },
   "outputs": [],
   "source": [
    "# Output data into CSV\n",
    "stocks_data.to_csv(\"C:/Users/Finance/Desktop/stocks_data.csv\")"
   ]
  },
  {
   "cell_type": "markdown",
   "metadata": {},
   "source": [
    "## To find the path or current diectory"
   ]
  },
  {
   "cell_type": "code",
   "execution_count": 7,
   "metadata": {
    "inputHidden": false,
    "outputHidden": false
   },
   "outputs": [],
   "source": [
    "import os\n",
    "cwd = os.getcwd()"
   ]
  },
  {
   "cell_type": "code",
   "execution_count": 8,
   "metadata": {
    "inputHidden": false,
    "outputHidden": false
   },
   "outputs": [
    {
     "data": {
      "text/plain": [
       "'C:\\\\WINDOWS'"
      ]
     },
     "execution_count": 8,
     "metadata": {},
     "output_type": "execute_result"
    }
   ],
   "source": [
    "cwd"
   ]
  },
  {
   "cell_type": "code",
   "execution_count": 9,
   "metadata": {
    "inputHidden": false,
    "outputHidden": false
   },
   "outputs": [
    {
     "name": "stdout",
     "output_type": "stream",
     "text": [
      "C:\\WINDOWS\n"
     ]
    }
   ],
   "source": [
    "from pathlib import Path\n",
    "\n",
    "print(Path.cwd())"
   ]
  }
 ],
 "metadata": {
  "kernel_info": {
   "name": "python3"
  },
  "kernelspec": {
   "display_name": "Python 3",
   "language": "python",
   "name": "python3"
  },
  "language_info": {
   "codemirror_mode": {
    "name": "ipython",
    "version": 3
   },
   "file_extension": ".py",
   "mimetype": "text/x-python",
   "name": "python",
   "nbconvert_exporter": "python",
   "pygments_lexer": "ipython3",
   "version": "3.7.4"
  },
  "nteract": {
   "version": "0.12.2"
  }
 },
 "nbformat": 4,
 "nbformat_minor": 4
}
